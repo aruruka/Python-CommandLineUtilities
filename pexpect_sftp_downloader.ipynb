{
 "cells": [
  {
   "cell_type": "code",
   "execution_count": null,
   "metadata": {
    "tags": []
   },
   "outputs": [],
   "source": [
    "import argparse\n",
    "import pexpect\n",
    "\n",
    "# Parse command line arguments\n",
    "parser = argparse.ArgumentParser(description='Download files from SFTP server')\n",
    "parser.add_argument('username', type=str, help='SFTP server username')\n",
    "parser.add_argument('password', type=str, help='SFTP server password')\n",
    "parser.add_argument('remote_dir', type=str, help='Remote directory to download from')\n",
    "parser.add_argument('file_list', type=str, help='File containing list of files to download')\n",
    "parser.add_argument('local_dir', type=str, help='Local directory to download to')\n",
    "parser.add_argument('hostname', type=str, help='Remote SFTP server hostname')\n",
    "parser.add_argument('port', type=int, help='Remote SFTP server port number')\n",
    "\n",
    "# args = parser.parse_args()\n",
    "# Pass the arguments to the script for testing\n",
    "args = parser.parse_args(['USER', 'PASSWORD', '/servdata/support/maprpatches/v7.2.0/rpm/', 'ebf_file_list.txt', '/root/downloads', 'REMOTE.SFTP.SERVER', '22'])\n",
    "\n",
    "# Read the list of files to download\n",
    "with open(args.file_list, 'r') as f:\n",
    "    files_to_download = f.read().splitlines()\n",
    "\n",
    "# SFTP command to download files\n",
    "sftp_command = f\"sftp -o Port={args.port} {args.username}@{args.hostname}:{args.remote_dir}/{{}} {args.local_dir}/\"\n",
    "\n",
    "# Download each file in the list\n",
    "for file in files_to_download:\n",
    "    print('Downloading file: ' + file)\n",
    "    # Spawn a new process to execute the SFTP command\n",
    "    sftp_process = pexpect.spawn(sftp_command.format(file))\n",
    "    # Wait for the password prompt and send the password\n",
    "    sftp_process.expect(\"password:\")\n",
    "    sftp_process.sendline(args.password)\n",
    "    # Wait for the download to complete and print the output\n",
    "    sftp_process.expect(pexpect.EOF, timeout=360)\n",
    "    print(sftp_process.before.decode())\n",
    "\n",
    "# Print a message indicating that the download is complete\n",
    "print(f\"Downloaded {len(files_to_download)} files to {args.local_dir}\")"
   ]
  }
 ],
 "metadata": {
  "kernelspec": {
   "display_name": "base",
   "language": "python",
   "name": "python3"
  },
  "language_info": {
   "codemirror_mode": {
    "name": "ipython",
    "version": 3
   },
   "file_extension": ".py",
   "mimetype": "text/x-python",
   "name": "python",
   "nbconvert_exporter": "python",
   "pygments_lexer": "ipython3",
   "version": "3.9.18"
  },
  "orig_nbformat": 4
 },
 "nbformat": 4,
 "nbformat_minor": 2
}
